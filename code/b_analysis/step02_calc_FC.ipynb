{
 "cells": [
  {
   "cell_type": "code",
   "execution_count": null,
   "id": "048e447b",
   "metadata": {},
   "outputs": [],
   "source": [
    "import numpy as np\n",
    "import pandas as pd\n",
    "import os\n",
    "from sklearn import svm\n",
    "from sklearn import metrics\n",
    "import scipy.io\n",
    "from scipy import stats\n",
    "import matplotlib.pyplot as plt\n",
    "from scipy import stats, linalg\n",
    "import warnings\n",
    "import math\n",
    "from sklearn.exceptions import ConvergenceWarning\n",
    "def conv_r2z(r):\n",
    "    with np.errstate(invalid='ignore', divide='ignore'):\n",
    "        return 0.5 * (np.log(1 + r) - np.log(1 - r))\n",
    "def conv_z2r(z):\n",
    "    with np.errstate(invalid='ignore', divide='ignore'):\n",
    "        return (np.exp(2 * z) - 1) / (np.exp(2 * z) + 1)\n",
    "def get_info(name):\n",
    "    tmp = name.split('_')\n",
    "    sub = tmp[0]\n",
    "    ses = tmp[1]\n",
    "    return sub, ses\n",
    "\n",
    "os.chdir('/gpfs/milgram/project/chun/jk2992/rest_thoughts/') # change to your folder path"
   ]
  },
  {
   "cell_type": "code",
   "execution_count": 2,
   "id": "27d37d20",
   "metadata": {},
   "outputs": [
    {
     "name": "stdout",
     "output_type": "stream",
     "text": [
      "We have 231 rest functional runs\n",
      "We have 60 participants\n",
      "We have 5 particpants with one rest session.\n",
      "They are ['1001', '1002', '1020', '1044', '1054']\n"
     ]
    }
   ],
   "source": [
    "# get subject list\n",
    "file_list = os.listdir('./data/brain/netts')\n",
    "file_list.sort()\n",
    "print('We have ' + str(len(file_list)) + ' rest functional runs')\n",
    "\n",
    "scan_info = []\n",
    "for i in range(len(file_list)):\n",
    "    name = file_list[i]\n",
    "    sub, ses = get_info(name)\n",
    "    scan_info.append([sub,ses])\n",
    "scan_info = np.asarray(scan_info)\n",
    "sub_list = np.unique(scan_info[:,0])\n",
    "print('We have ' + str(len(sub_list)) + ' participants')\n",
    "\n",
    "one_ses_sub = []\n",
    "two_ses_sub = []\n",
    "for j in range(len(sub_list)):\n",
    "    if scan_info[:,0].tolist().count(sub_list[j]) != 4:\n",
    "        one_ses_sub.append(sub_list[j])\n",
    "    else:\n",
    "        two_ses_sub.append(sub_list[j])\n",
    "print('We have ' + str(len(one_ses_sub)) + ' particpants with one rest session.')\n",
    "print('They are ' + str(one_ses_sub))\n",
    "\n",
    "# 1001, 1002, 1020 only did one session, 1054 second session scanner issue, 1044 converting issue"
   ]
  },
  {
   "cell_type": "code",
   "execution_count": 3,
   "id": "9efeebb8",
   "metadata": {},
   "outputs": [
    {
     "name": "stdout",
     "output_type": "stream",
     "text": [
      "TS.shape = (268, 597, 231)\n"
     ]
    }
   ],
   "source": [
    "rest = scipy.io.loadmat('./data/brain/rest_ts.mat')['ts']\n",
    "print('TS.shape = ' + str(rest.shape))"
   ]
  },
  {
   "cell_type": "code",
   "execution_count": 4,
   "id": "eaee78ac",
   "metadata": {},
   "outputs": [],
   "source": [
    "def get_r_omit_nan(tc1,tc2):\n",
    "    # view motion censored TRs as missing data\n",
    "    tc1[np.where(tc1 == 0)] = np.nan\n",
    "    tc2[np.where(tc2 == 0)] = np.nan\n",
    "    # get nan position\n",
    "    nanidx1 = np.where(np.isnan(tc1))\n",
    "    nanidx2 = np.where(np.isnan(tc2))\n",
    "    if len(nanidx1[0]) == len(nanidx2[0]):\n",
    "        nanidx = np.unique(nanidx1+nanidx2)\n",
    "        # don't calculate FC if less than 12 TR available\n",
    "        if len(nanidx) > 18:\n",
    "            zval = np.nan\n",
    "        else:\n",
    "            # remove nan from both tc\n",
    "            tc1 = np.delete(tc1,nanidx)\n",
    "            tc2 = np.delete(tc2,nanidx)\n",
    "            # run correlation\n",
    "            rval = stats.pearsonr(tc1,tc2)[0]\n",
    "            zval = conv_r2z(rval)\n",
    "    else:\n",
    "        zval = np.nan\n",
    "    return zval"
   ]
  },
  {
   "cell_type": "code",
   "execution_count": 5,
   "id": "c4aef2b0",
   "metadata": {},
   "outputs": [],
   "source": [
    "# define a function to calculate functional connectivity within the rest time period\n",
    "# trial = 0-7\n",
    "def get_FC(tc, trial):\n",
    "    time_range = range(trial*75 + 2, trial*75 + 32) # shifted time course for 5 seconds to account for the hymodynamic lag (+2 because the first 3 TRs was cut during preprocess)\n",
    "    tc_shorter = tc[:,time_range]\n",
    "    FC_vec = []\n",
    "    for i in range(tc_shorter.shape[0]-1):\n",
    "        for j in range(i+1,tc_shorter.shape[0]):\n",
    "            # print('node1 ' +str(i))\n",
    "            #print('node2 ' +str(j))\n",
    "            tmp1 = tc_shorter[i,:]\n",
    "            tmp2 = tc_shorter[j,:]\n",
    "            rval = get_r_omit_nan(tmp1,tmp2)\n",
    "            FC_vec.append(rval)\n",
    "    FC_vec = np.asarray(FC_vec)\n",
    "    return FC_vec"
   ]
  },
  {
   "cell_type": "code",
   "execution_count": null,
   "id": "4fbc42e6",
   "metadata": {},
   "outputs": [
    {
     "name": "stdout",
     "output_type": "stream",
     "text": [
      "0\n"
     ]
    }
   ],
   "source": [
    "# get brain data by subject\n",
    "ntrial = 8\n",
    "FC_all = []\n",
    "for k in range(len(sub_list)):\n",
    "    idx = [i for i in range(len(scan_info[:,0])) if scan_info[:,0][i] == sub_list[k]]\n",
    "    FC_sub = []\n",
    "    for run in range(len(idx)):\n",
    "        print(str(idx[run]))\n",
    "        FC_run = []\n",
    "        tc = rest[:,:,idx[run]]\n",
    "        for trial in range(ntrial):\n",
    "            # print('ntrial '+str(trial))\n",
    "            FC_trial = get_FC(tc,trial)\n",
    "            FC_run.append(FC_trial)\n",
    "        FC_run = np.asarray(FC_run)\n",
    "        FC_sub.append(FC_run)\n",
    "    FC_all.append(FC_sub)\n",
    "scipy.io.savemat('./data/brain/rest_fc.mat',{'rest':FC_all})"
   ]
  }
 ],
 "metadata": {
  "kernelspec": {
   "display_name": "base",
   "language": "python",
   "name": "python3"
  },
  "language_info": {
   "codemirror_mode": {
    "name": "ipython",
    "version": 3
   },
   "file_extension": ".py",
   "mimetype": "text/x-python",
   "name": "python",
   "nbconvert_exporter": "python",
   "pygments_lexer": "ipython3",
   "version": "3.12.2"
  }
 },
 "nbformat": 4,
 "nbformat_minor": 5
}
