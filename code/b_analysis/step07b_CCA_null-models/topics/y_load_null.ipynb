{
 "cells": [
  {
   "cell_type": "code",
   "execution_count": null,
   "id": "cf42a142-14e8-42ca-8e80-3a3500d42815",
   "metadata": {},
   "outputs": [],
   "source": [
    "import numpy as np\n",
    "import pandas as pd\n",
    "import os\n",
    "from sklearn import svm\n",
    "from sklearn import metrics\n",
    "import scipy.io\n",
    "from scipy import stats\n",
    "import matplotlib.pyplot as plt\n",
    "from scipy import stats, linalg\n",
    "import warnings\n",
    "import random\n",
    "import math\n",
    "from sklearn.exceptions import ConvergenceWarning\n",
    "os.chdir('/gpfs/milgram/project/chun/jk2992/spontaneous_thoughts/')  # change to your folder path"
   ]
  },
  {
   "cell_type": "code",
   "execution_count": null,
   "id": "008fedfc-1284-4a0d-a0ff-c8bf921f4e57",
   "metadata": {},
   "outputs": [],
   "source": [
    "path = './results/CCA/topics/'\n",
    "files = os.listdir(path)\n",
    "all_null = []\n",
    "for file in files:\n",
    "    this_file = path + file\n",
    "    this_null = scipy.io.loadmat(this_file)['null']\n",
    "    all_null.append(this_null)\n",
    "all_null = np.stack(all_null)"
   ]
  },
  {
   "cell_type": "code",
   "execution_count": null,
   "id": "69c467d0-0c31-4114-aae6-052892cdbf80",
   "metadata": {},
   "outputs": [],
   "source": [
    "scipy.io.savemat('./results/CCA/topics_nullsum.mat',{'null':all_null})"
   ]
  },
  {
   "cell_type": "code",
   "execution_count": null,
   "id": "7e53ba40-f9cc-4263-b3b1-44c831203cca",
   "metadata": {},
   "outputs": [],
   "source": []
  }
 ],
 "metadata": {
  "kernelspec": {
   "display_name": "Python 3 (ipykernel)",
   "language": "python",
   "name": "python3"
  },
  "language_info": {
   "codemirror_mode": {
    "name": "ipython",
    "version": 3
   },
   "file_extension": ".py",
   "mimetype": "text/x-python",
   "name": "python",
   "nbconvert_exporter": "python",
   "pygments_lexer": "ipython3",
   "version": "3.9.15"
  }
 },
 "nbformat": 4,
 "nbformat_minor": 5
}
