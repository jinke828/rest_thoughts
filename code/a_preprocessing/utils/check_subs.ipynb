{
 "cells": [
  {
   "cell_type": "code",
   "execution_count": 3,
   "id": "46d12aea",
   "metadata": {},
   "outputs": [],
   "source": [
    "import pandas as pd\n",
    "from subjects import subjects\n",
    "import os\n",
    "from create_csv_from_review_file import create_csv_from_review_file\n",
    "\n",
    "# TC NOTES \n",
    "# needa download\n",
    "# 1011_02 \n",
    "# 1014_01\n",
    "# needa preprocess\n",
    "#     AVA_pilot004_s2\n",
    "#     AVA_pilot004\n",
    "#     pilot005_01',\n",
    "#     'pilot005_02\n",
    "\n",
    "def get_sub_session(foldername):\n",
    "    foldername = foldername.lower()\n",
    "    if '_' in foldername:\n",
    "        save_split = foldername.split('ava_')\n",
    "        sub = foldername.split('ava_')[1]\n",
    "        sub = sub.split('_')[0]\n",
    "        sub  = sub.split('.')[0]\n",
    "    else:\n",
    "         sub = '1002'\n",
    "\n",
    "    session = '01'\n",
    "    if 's2' in foldername:\n",
    "        session = '02'\n",
    "    elif '_2_' in foldername:\n",
    "        session = '02'\n",
    "    elif '_2.' in foldername:\n",
    "        session = '02'\n",
    "    return  sub, session\n"
   ]
  },
  {
   "cell_type": "code",
   "execution_count": 65,
   "id": "8bebfb85",
   "metadata": {},
   "outputs": [
    {
     "name": "stdout",
     "output_type": "stream",
     "text": [
      "dupe zips set()\n",
      "number of sessions to be preprocessed 2\n",
      "sessions to be preprocessed {'1011_01', '1005_01'}\n"
     ]
    }
   ],
   "source": [
    "# LOAD UP LIST OF SESSIONS\n",
    "\n",
    "# load up all subs we've downloaded from the MRIRC server\n",
    "all_zipped = os.listdir('../../../zipped_sourcedata')\n",
    "subs_we_want = [get_sub_session(x) for x in all_zipped]\n",
    "subs_we_want = [x[0]+ '_'+x[1] for x in subs_we_want]\n",
    "\n",
    "# load up all subs we've preprocessed by reading in our combined csv\n",
    "\n",
    "# first update the csv in case there are new sessions that have been preprocessed\n",
    "create_csv_from_review_file()\n",
    "df = pd.read_csv('ss_out_review_compiled/ss_out_review_compiled.csv')\n",
    "df['sub_session'] = df['sub'] +'_0'+ df['session'].astype(str)\n",
    "subs_we_have = list(df['sub_session'].value_counts().keys())\n",
    "\n",
    "\n",
    "\n",
    "# CHECK FOR DUPLICATE DOWNLOADS \n",
    "\n",
    "# print any dupes - ie for some reason there are 2 zip files for this session\n",
    "# (sometimes the file is saved as .zip and as .7s, sometimes there was some error )\n",
    "dupes = set([x for x in all_zipped if xs.count(x) > 1])\n",
    "print('dupe zips', dupes)\n",
    "\n",
    "\n",
    "# CHECK FOR SESSIONS THAT NEED TO BE PREPROCESSED\n",
    "\n",
    "# compare subs we have vs subs we want\n",
    "print('number of sessions to be preprocessed', len(set(subs_we_want) - set(subs_we_have)))\n",
    "\n",
    "# print sessions that need to be preprocessed\n",
    "print('sessions to be preprocessed', set(subs_we_want) - set(subs_we_have))"
   ]
  },
  {
   "cell_type": "code",
   "execution_count": 61,
   "id": "a5e87b12",
   "metadata": {},
   "outputs": [],
   "source": []
  },
  {
   "cell_type": "code",
   "execution_count": 62,
   "id": "8b979d87",
   "metadata": {},
   "outputs": [],
   "source": [
    "\n",
    "def get_sub_session(foldername):\n",
    "    print(foldername)\n",
    "    foldername = foldername.lower()\n",
    "    if '_' in foldername:\n",
    "        save_split = foldername.split('ava_')\n",
    "        sub = foldername.split('ava_')[1]\n",
    "        sub = sub.split('_')[0]\n",
    "        sub  = sub.split('.')[0]\n",
    "    else:\n",
    "         sub = '1002'\n",
    "\n",
    "    session = '01'\n",
    "    if 's2' in foldername:\n",
    "        session = '02'\n",
    "    elif '_2_' in foldername:\n",
    "        session = '02'\n",
    "    elif '_2' in foldername:\n",
    "        session = '02'\n",
    "    return  sub, session"
   ]
  },
  {
   "cell_type": "code",
   "execution_count": 63,
   "id": "2755e743",
   "metadata": {},
   "outputs": [
    {
     "name": "stdout",
     "output_type": "stream",
     "text": [
      "AVA_1011_2\n"
     ]
    },
    {
     "data": {
      "text/plain": [
       "('1011', '02')"
      ]
     },
     "execution_count": 63,
     "metadata": {},
     "output_type": "execute_result"
    }
   ],
   "source": [
    "get_sub_session('AVA_1011_2')"
   ]
  },
  {
   "cell_type": "code",
   "execution_count": 18,
   "id": "93a53f8e",
   "metadata": {},
   "outputs": [],
   "source": []
  },
  {
   "cell_type": "code",
   "execution_count": 36,
   "id": "15b29ef1",
   "metadata": {},
   "outputs": [],
   "source": [
    "def get_missing_runs():\n",
    "    df = pd.read_csv('ss_out_review_compiled/ss_out_review_compiled.csv')\n",
    "    df['task_run'] = df['task'] + '_' +df['run'].astype(str)\n",
    "\n",
    "    data = {'sub': [],  'session': [],'task_runs':[]}\n",
    "    for sub in df['sub'].unique():\n",
    "        for session in [1, 2]:\n",
    "            subset = df[(df['sub']==sub) & (df['session']==session)]\n",
    "            task_runs = subset.task_run.unique()\n",
    "            if len(task_runs) < 5:\n",
    "                data['sub'].append(sub)\n",
    "                data['session'].append(session)\n",
    "                data['task_runs'].append(task_runs)\n",
    "                \n",
    "#                 to_concat.append(subset)\n",
    "\n",
    "    missing_runs = pd.DataFrame(data)\n",
    "    missing_runs  = missing_runs[~missing_runs['sub'].str.contains('pilot')]\n",
    "    return missing_runs\n",
    "\n",
    "missing_runs  = get_missing_runs()\n",
    "missing_runs.to_csv('missing_runs.csv')"
   ]
  },
  {
   "cell_type": "code",
   "execution_count": 37,
   "id": "148b74e7",
   "metadata": {},
   "outputs": [
    {
     "data": {
      "text/html": [
       "<div>\n",
       "<style scoped>\n",
       "    .dataframe tbody tr th:only-of-type {\n",
       "        vertical-align: middle;\n",
       "    }\n",
       "\n",
       "    .dataframe tbody tr th {\n",
       "        vertical-align: top;\n",
       "    }\n",
       "\n",
       "    .dataframe thead th {\n",
       "        text-align: right;\n",
       "    }\n",
       "</style>\n",
       "<table border=\"1\" class=\"dataframe\">\n",
       "  <thead>\n",
       "    <tr style=\"text-align: right;\">\n",
       "      <th></th>\n",
       "      <th>sub</th>\n",
       "      <th>session</th>\n",
       "      <th>task_runs</th>\n",
       "    </tr>\n",
       "  </thead>\n",
       "  <tbody>\n",
       "    <tr>\n",
       "      <th>0</th>\n",
       "      <td>1004</td>\n",
       "      <td>1</td>\n",
       "      <td>[vNT_1]</td>\n",
       "    </tr>\n",
       "    <tr>\n",
       "      <th>1</th>\n",
       "      <td>1004</td>\n",
       "      <td>2</td>\n",
       "      <td>[]</td>\n",
       "    </tr>\n",
       "    <tr>\n",
       "      <th>3</th>\n",
       "      <td>1008</td>\n",
       "      <td>1</td>\n",
       "      <td>[rest_2, avNW_1, vCPT_1, rest_1]</td>\n",
       "    </tr>\n",
       "    <tr>\n",
       "      <th>6</th>\n",
       "      <td>1001</td>\n",
       "      <td>2</td>\n",
       "      <td>[]</td>\n",
       "    </tr>\n",
       "    <tr>\n",
       "      <th>7</th>\n",
       "      <td>1002</td>\n",
       "      <td>2</td>\n",
       "      <td>[]</td>\n",
       "    </tr>\n",
       "    <tr>\n",
       "      <th>8</th>\n",
       "      <td>1014</td>\n",
       "      <td>2</td>\n",
       "      <td>[]</td>\n",
       "    </tr>\n",
       "  </tbody>\n",
       "</table>\n",
       "</div>"
      ],
      "text/plain": [
       "    sub  session                         task_runs\n",
       "0  1004        1                           [vNT_1]\n",
       "1  1004        2                                []\n",
       "3  1008        1  [rest_2, avNW_1, vCPT_1, rest_1]\n",
       "6  1001        2                                []\n",
       "7  1002        2                                []\n",
       "8  1014        2                                []"
      ]
     },
     "execution_count": 37,
     "metadata": {},
     "output_type": "execute_result"
    }
   ],
   "source": [
    "missing_runs"
   ]
  },
  {
   "cell_type": "code",
   "execution_count": null,
   "id": "f5edbc66",
   "metadata": {},
   "outputs": [],
   "source": []
  }
 ],
 "metadata": {
  "kernelspec": {
   "display_name": "Python 3 (ipykernel)",
   "language": "python",
   "name": "python3"
  },
  "language_info": {
   "codemirror_mode": {
    "name": "ipython",
    "version": 3
   },
   "file_extension": ".py",
   "mimetype": "text/x-python",
   "name": "python",
   "nbconvert_exporter": "python",
   "pygments_lexer": "ipython3",
   "version": "3.9.12"
  }
 },
 "nbformat": 4,
 "nbformat_minor": 5
}
